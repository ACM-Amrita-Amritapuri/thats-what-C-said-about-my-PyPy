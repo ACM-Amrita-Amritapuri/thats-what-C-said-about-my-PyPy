{
 "cells": [
  {
   "cell_type": "code",
   "execution_count": 1,
   "id": "1b29af42",
   "metadata": {},
   "outputs": [],
   "source": [
    "import turtle\n",
    "screen=turtle.Screen()\n",
    "trtl=turtle.Turtle()\n",
    "screen.setup(620,620)\n",
    "screen.bgcolor('white')\n",
    "clr=['yellow','red','blue','yellow','purple']\n",
    "trtl.pensize(4)\n",
    "trtl.shape('turtle')\n",
    "trtl.penup()\n",
    "trtl.pencolor('black')\n",
    "m=0\n",
    "for i in range(12):\n",
    "      m=m+1\n",
    "      trtl.penup()\n",
    "      trtl.setheading(-30*i+60)\n",
    "      trtl.forward(150)\n",
    "      trtl.pendown()\n",
    "      trtl.forward(25)\n",
    "      trtl.penup()\n",
    "      trtl.forward(20)\n",
    "      trtl.write(str(m),align=\"center\",font=(\"Arial\", 12, \"normal\"))\n",
    "      if m==12:\n",
    "        m=0\n",
    "      trtl.home()\n",
    "trtl.home()\n",
    "trtl.setpos(0,-250)\n",
    "trtl.pendown()\n",
    "trtl.pensize(10)\n",
    "trtl.pencolor('blue')\n",
    "trtl.circle(250)\n",
    "trtl.penup()\n",
    "trtl.setpos(150,-270)\n",
    "trtl.pendown()\n",
    "trtl.pencolor('pink')\n",
    "trtl.write('Neeraja for Hacktober',font=(\"Arial\", 12, \"normal\"))\n",
    "trtl.ht()"
   ]
  }
 ],
 "metadata": {
  "kernelspec": {
   "display_name": "Python 3 (ipykernel)",
   "language": "python",
   "name": "python3"
  },
  "language_info": {
   "codemirror_mode": {
    "name": "ipython",
    "version": 3
   },
   "file_extension": ".py",
   "mimetype": "text/x-python",
   "name": "python",
   "nbconvert_exporter": "python",
   "pygments_lexer": "ipython3",
   "version": "3.9.7"
  }
 },
 "nbformat": 4,
 "nbformat_minor": 5
}
